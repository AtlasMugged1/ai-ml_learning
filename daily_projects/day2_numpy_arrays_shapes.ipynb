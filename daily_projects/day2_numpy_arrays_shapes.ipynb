{
 "cells": [
  {
   "cell_type": "code",
   "execution_count": 5,
   "id": "e1180d52",
   "metadata": {},
   "outputs": [
    {
     "name": "stdout",
     "output_type": "stream",
     "text": [
      "1d array: [1 2 3]\n",
      "2d array:\n",
      " [[1 2 3]\n",
      " [4 5 6]]\n",
      "Zeros:\n",
      " [[0. 0. 0.]\n",
      " [0. 0. 0.]]\n",
      "Ones:\n",
      " [[1. 1.]\n",
      " [1. 1.]\n",
      " [1. 1.]]\n",
      "Identity:\n",
      " [[1. 0. 0.]\n",
      " [0. 1. 0.]\n",
      " [0. 0. 1.]]\n",
      "Original: [ 0  1  2  3  4  5  6  7  8  9 10 11] (12,)\n",
      "Reshaped:\n",
      " [[ 0  1  2  3]\n",
      " [ 4  5  6  7]\n",
      " [ 8  9 10 11]]\n",
      "Flattened: [ 0  1  2  3  4  5  6  7  8  9 10 11]\n",
      "Addition: [11 22 33]\n",
      "Multiplication: [10 40 90]\n",
      "Square: [1 4 9]\n",
      "Sqrt: [3.16227766 4.47213595 5.47722558]\n",
      "First row: [1 2 3]\n",
      "Second column: [2 5]\n",
      "Submatrix:\n",
      " [[2 3]\n",
      " [5 6]]\n"
     ]
    }
   ],
   "source": [
    "import numpy as np\n",
    "\n",
    "\n",
    "# Creating arrays\n",
    "a = np.array([1, 2, 3])\n",
    "print(\"1d array:\", a)\n",
    "\n",
    "b = np.array([[1, 2, 3], [4, 5, 6]])\n",
    "print(\"2d array:\\n\", b)\n",
    "\n",
    "zeros = np.zeros((2, 3))\n",
    "ones = np.ones((3, 2))\n",
    "identity = np.eye(3)\n",
    "\n",
    "print(\"Zeros:\\n\", zeros)\n",
    "print(\"Ones:\\n\", ones)\n",
    "print(\"Identity:\\n\", identity)\n",
    "\n",
    "\n",
    "# Array shapes and reshaping\n",
    "arr = np.arange(12) # array of 0 - 11\n",
    "print(\"Original:\", arr, arr.shape)\n",
    "\n",
    "reshaped = arr.reshape(3, 4) # reshape into 3x4\n",
    "print(\"Reshaped:\\n\", reshaped)\n",
    "\n",
    "flattened = reshaped.ravel() # flatten back\n",
    "print(\"Flattened:\", flattened)\n",
    "\n",
    "\n",
    "# Elementwise operations\n",
    "x = np.array([1, 2, 3])\n",
    "y = np.array([10, 20, 30])\n",
    "\n",
    "print(\"Addition:\", x + y)\n",
    "print(\"Multiplication:\", x * y)\n",
    "print(\"Square:\", x ** 2)\n",
    "print(\"Sqrt:\", np.sqrt(y))\n",
    "\n",
    "\n",
    "# Indexing and slicing\n",
    "m = np.array([[1, 2, 3], [4, 5, 6]])\n",
    "print(\"First row:\", m[0])\n",
    "print(\"Second column:\", m[:, 1])\n",
    "print(\"Submatrix:\\n\", m[0:2, 1:3]) # rows 0-1, cols 1-2\n",
    "\n"
   ]
  },
  {
   "cell_type": "code",
   "execution_count": 4,
   "id": "10e395ca",
   "metadata": {},
   "outputs": [
    {
     "name": "stdout",
     "output_type": "stream",
     "text": [
      "Second row: [4 5 6]\n",
      "Third column: [3 6 9]\n",
      "Top left 2x2 submatrix:\n",
      " [[1 2]\n",
      " [4 5]]\n",
      "4x4 Matrix:\n",
      " [[ 0  1  2  3]\n",
      " [ 4  5  6  7]\n",
      " [ 8  9 10 11]\n",
      " [12 13 14 15]]\n",
      "Row sums: [ 6 22 38 54]\n",
      "Column sums: [24 28 32 36]\n"
     ]
    }
   ],
   "source": [
    "# Mini-challenges\n",
    "\n",
    "# 1. Create 3x3 array with values 1-9. Extract:\n",
    "# Second row\n",
    "# Third column\n",
    "# the 2x2 submatrix in the top left corner\n",
    "three_x_three_array = np.array([[1, 2, 3], [4, 5, 6], [7, 8, 9]])\n",
    "\n",
    "print(\"Second row:\", three_x_three_array[1])\n",
    "print(\"Third column:\", three_x_three_array[:, 2])\n",
    "print(\"Top left 2x2 submatrix:\\n\", three_x_three_array[0:2, 0:2])\n",
    "\n",
    "\n",
    "# 2. Use np.arange() and reshape() to make a 4x4 matrix then:\n",
    "# Compute the sum of each row (.sum(axis=1))\n",
    "# Computer the sum of each column (.sum(axis=0))\n",
    "four_x_four_matrix = np.arange(16).reshape(4, 4)\n",
    "print(\"4x4 Matrix:\\n\", four_x_four_matrix)\n",
    "print(\"Row sums:\", four_x_four_matrix.sum(axis=1))\n",
    "print(\"Column sums:\", four_x_four_matrix.sum(axis=0))"
   ]
  }
 ],
 "metadata": {
  "kernelspec": {
   "display_name": ".venv",
   "language": "python",
   "name": "python3"
  },
  "language_info": {
   "codemirror_mode": {
    "name": "ipython",
    "version": 3
   },
   "file_extension": ".py",
   "mimetype": "text/x-python",
   "name": "python",
   "nbconvert_exporter": "python",
   "pygments_lexer": "ipython3",
   "version": "3.13.7"
  }
 },
 "nbformat": 4,
 "nbformat_minor": 5
}
