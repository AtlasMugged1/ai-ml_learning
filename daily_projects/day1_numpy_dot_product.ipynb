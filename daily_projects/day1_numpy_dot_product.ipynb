{
 "cells": [
  {
   "cell_type": "code",
   "execution_count": 5,
   "id": "04049121",
   "metadata": {},
   "outputs": [
    {
     "name": "stdout",
     "output_type": "stream",
     "text": [
      "32 32 32\n",
      "Cosine similarity: 0.9746318461970762\n",
      "Angle (degrees): 12.933154491899135\n"
     ]
    }
   ],
   "source": [
    "import numpy as np\n",
    "\n",
    "a = np.array([1, 2, 3])\n",
    "b = np.array([4, 5, 6])\n",
    "\n",
    "dot1 = np.dot(a, b)\n",
    "dot2 = a @ b\n",
    "dot3 = sum(ai * bi for ai, bi in zip(a, b))\n",
    "\n",
    "print(dot1, dot2, dot3)\n",
    "\n",
    "norm_a = np.linalg.norm(a)\n",
    "norm_b = np.linalg.norm(b)\n",
    "cosine_similarity = dot1 / (norm_a * norm_b)\n",
    "print(\"Cosine similarity:\", cosine_similarity)\n",
    "\n",
    "def vector_angle(a, b):\n",
    "    dot_product = np.dot(a, b)\n",
    "    norm_a = np.linalg.norm(a)\n",
    "    norm_b = np.linalg.norm(b)\n",
    "    cos_angle = dot_product / (norm_a * norm_b)\n",
    "    angle = np.arccos(np.clip(cos_angle, -1.0, 1.0))\n",
    "    return angle\n",
    "\n",
    "print(\"Angle (degrees):\", np.degrees(vector_angle(a, b)))"
   ]
  },
  {
   "cell_type": "markdown",
   "id": "9c972b03",
   "metadata": {},
   "source": [
    "Dot product = sum(ai + bi for ai, bi in zip(a, b))\n",
    "We added the products of the 2 different vectors\n",
    "\n",
    "\n",
    "norm_a = np.linalg.norm(a)\n",
    "norm_b = np.linalg.norm(b)\n",
    "cosine_similarity = dot1 / (norm_a * norm_b)\n",
    "\n",
    "\n",
    "\n"
   ]
  }
 ],
 "metadata": {
  "kernelspec": {
   "display_name": ".venv",
   "language": "python",
   "name": "python3"
  },
  "language_info": {
   "codemirror_mode": {
    "name": "ipython",
    "version": 3
   },
   "file_extension": ".py",
   "mimetype": "text/x-python",
   "name": "python",
   "nbconvert_exporter": "python",
   "pygments_lexer": "ipython3",
   "version": "3.13.7"
  }
 },
 "nbformat": 4,
 "nbformat_minor": 5
}
