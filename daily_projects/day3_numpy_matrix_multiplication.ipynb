{
 "cells": [
  {
   "cell_type": "code",
   "execution_count": 2,
   "id": "417311aa",
   "metadata": {},
   "outputs": [
    {
     "name": "stdout",
     "output_type": "stream",
     "text": [
      "Matrix * Vector result:  [17 39]\n",
      "Matrix * Matrix result:  [[ 2  9]\n",
      " [ 4 23]]\n"
     ]
    }
   ],
   "source": [
    "import numpy as np\n",
    "\n",
    "# Matrix * Vector multiplication\n",
    "A = np.array([[1, 2],\n",
    "              [3, 4]])\n",
    "v = np.array([5, 6])\n",
    "\n",
    "result = A @ v\n",
    "print(\"Matrix * Vector result: \", result)\n",
    "\n",
    "\n",
    "# Matrix * Matrix Multiplication\n",
    "B = np.array([[0, 5],\n",
    "              [1, 2]])\n",
    "\n",
    "result2 = A @ B\n",
    "print(\"Matrix * Matrix result: \", result2)"
   ]
  },
  {
   "cell_type": "code",
   "execution_count": null,
   "id": "5039eb5a",
   "metadata": {},
   "outputs": [],
   "source": []
  }
 ],
 "metadata": {
  "kernelspec": {
   "display_name": ".venv",
   "language": "python",
   "name": "python3"
  },
  "language_info": {
   "codemirror_mode": {
    "name": "ipython",
    "version": 3
   },
   "file_extension": ".py",
   "mimetype": "text/x-python",
   "name": "python",
   "nbconvert_exporter": "python",
   "pygments_lexer": "ipython3",
   "version": "3.13.7"
  }
 },
 "nbformat": 4,
 "nbformat_minor": 5
}
