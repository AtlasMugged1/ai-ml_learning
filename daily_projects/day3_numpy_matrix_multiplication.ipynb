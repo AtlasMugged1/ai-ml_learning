{
 "cells": [
  {
   "cell_type": "code",
   "execution_count": 2,
   "id": "417311aa",
   "metadata": {},
   "outputs": [
    {
     "name": "stdout",
     "output_type": "stream",
     "text": [
      "Matrix * Vector result:  [17 39]\n",
      "Matrix * Matrix result:  [[ 2  9]\n",
      " [ 4 23]]\n"
     ]
    }
   ],
   "source": [
    "import numpy as np\n",
    "\n",
    "# Matrix * Vector multiplication\n",
    "A = np.array([[1, 2],\n",
    "              [3, 4]])\n",
    "v = np.array([5, 6])\n",
    "\n",
    "result = A @ v\n",
    "print(\"Matrix * Vector result: \", result)\n",
    "\n",
    "\n",
    "# Matrix * Matrix Multiplication\n",
    "B = np.array([[0, 5],\n",
    "              [1, 2]])\n",
    "\n",
    "result2 = A @ B\n",
    "print(\"Matrix * Matrix result: \", result2)"
   ]
  },
  {
   "cell_type": "code",
   "execution_count": 3,
   "id": "5039eb5a",
   "metadata": {},
   "outputs": [
    {
     "name": "stdout",
     "output_type": "stream",
     "text": [
      "[2.  0.5]\n"
     ]
    }
   ],
   "source": [
    "# Transformation example: scaling\n",
    "\n",
    "S = np.array([[2, 0], \n",
    "              [0, 0.5]])\n",
    "\n",
    "v = np.array([1, 1])\n",
    "\n",
    "print(S @ v)  # Scaled vector"
   ]
  },
  {
   "cell_type": "code",
   "execution_count": 7,
   "id": "65a0e817",
   "metadata": {},
   "outputs": [
    {
     "name": "stdout",
     "output_type": "stream",
     "text": [
      "Identity matrix result:  [3 4]\n",
      "Zero matrix result:  [0 0]\n",
      "90 degree rotation result:  [0 1]\n"
     ]
    }
   ],
   "source": [
    "# Mini-challenges\n",
    "\n",
    "# 1. Write a function `apply_matrix(A, v)` that multiplies any matrix by a vector\n",
    "# 2. Test it on:\n",
    "#        Identity matrix (should return the vector unchanged)\n",
    "#        Zero matrix (should return a zero vector)\n",
    "#        Rotation matrix (try 90 degree rotation on [1, 0] -> [0, 1])\n",
    "\n",
    "def apply_matrix(A, v):\n",
    "    # Ensure inputs are NumPy arrays\n",
    "    A = np.array(A)\n",
    "    v = np.array(v)\n",
    "\n",
    "    # Perform multiplication\n",
    "    return A @ v\n",
    "\n",
    "# Test cases\n",
    "\n",
    "# Identity matrix\n",
    "I = np.array([[1, 0],\n",
    "              [0, 1]])\n",
    "v1 = np.array([3, 4])\n",
    "print(\"Identity matrix result: \", apply_matrix(I, v1))  # Should return [3, 4]\n",
    "\n",
    "# Zero matrix\n",
    "Z = np.array([[0, 0],\n",
    "              [0, 0]])\n",
    "print(\"Zero matrix result: \", apply_matrix(Z, v1))  # Should return [0, 0]\n",
    "\n",
    "# 90 degree rotation matrix\n",
    "R = np.array([[0, -1],\n",
    "              [1, 0]])\n",
    "\n",
    "v2 = np.array([1, 0])\n",
    "\n",
    "print(\"90 degree rotation result: \", apply_matrix(R, v2))  # Should return [0, 1]\n",
    "\n",
    "# --- IGNORE --- "
   ]
  }
 ],
 "metadata": {
  "kernelspec": {
   "display_name": ".venv",
   "language": "python",
   "name": "python3"
  },
  "language_info": {
   "codemirror_mode": {
    "name": "ipython",
    "version": 3
   },
   "file_extension": ".py",
   "mimetype": "text/x-python",
   "name": "python",
   "nbconvert_exporter": "python",
   "pygments_lexer": "ipython3",
   "version": "3.13.7"
  }
 },
 "nbformat": 4,
 "nbformat_minor": 5
}
